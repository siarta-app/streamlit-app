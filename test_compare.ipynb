{
 "cells": [
  {
   "cell_type": "code",
   "execution_count": 1,
   "id": "50346787-fcd1-4f71-951a-1c43b3cd1725",
   "metadata": {},
   "outputs": [],
   "source": [
    "import pandas as pd"
   ]
  },
  {
   "cell_type": "code",
   "execution_count": 3,
   "id": "579d2099-c7b0-4c9e-9fdf-e08478210b79",
   "metadata": {},
   "outputs": [],
   "source": [
    "df_asset = pd.read_excel('./dataset/Asset-Data.xlsx')"
   ]
  },
  {
   "cell_type": "code",
   "execution_count": 4,
   "id": "d4f3e73b-311f-4fa2-a8e7-de7ec8ba1435",
   "metadata": {},
   "outputs": [],
   "source": [
    "df_prev = pd.read_excel('./dataset/Preventive-Data.xlsx')"
   ]
  },
  {
   "cell_type": "code",
   "execution_count": 23,
   "id": "4d031169-85f1-4046-b0f3-ccc09ae17f23",
   "metadata": {},
   "outputs": [],
   "source": [
    "kolom_asset = df_asset[['ID', 'Name','Category','Location']]\n",
    "kolom_asset = kolom_asset.rename(columns={'ID':'Item ID','Name': 'Item Name','Category':'Item Category'})"
   ]
  },
  {
   "cell_type": "code",
   "execution_count": 24,
   "id": "33487196-9266-4e83-8910-6abd7778477b",
   "metadata": {},
   "outputs": [],
   "source": [
    "kolom_prev = df_prev[['Item ID','Ticket ID','Task Type']]"
   ]
  },
  {
   "cell_type": "code",
   "execution_count": 25,
   "id": "29520ae6-770a-4448-9aa5-48b4187473f4",
   "metadata": {},
   "outputs": [],
   "source": [
    "df_merged = pd.merge(kolom_asset,kolom_prev, on='Item ID', how='outer')"
   ]
  },
  {
   "cell_type": "code",
   "execution_count": 26,
   "id": "ff02e934-9645-4e9e-80e2-b3c99db4700d",
   "metadata": {},
   "outputs": [],
   "source": [
    "unschedule_item = df_merged[df_merged['Ticket ID'].isnull()]"
   ]
  },
  {
   "cell_type": "code",
   "execution_count": 27,
   "id": "3243b672-33fd-42ef-a8dc-00720396df7f",
   "metadata": {},
   "outputs": [
    {
     "data": {
      "text/html": [
       "<div>\n",
       "<style scoped>\n",
       "    .dataframe tbody tr th:only-of-type {\n",
       "        vertical-align: middle;\n",
       "    }\n",
       "\n",
       "    .dataframe tbody tr th {\n",
       "        vertical-align: top;\n",
       "    }\n",
       "\n",
       "    .dataframe thead th {\n",
       "        text-align: right;\n",
       "    }\n",
       "</style>\n",
       "<table border=\"1\" class=\"dataframe\">\n",
       "  <thead>\n",
       "    <tr style=\"text-align: right;\">\n",
       "      <th></th>\n",
       "      <th>Item ID</th>\n",
       "      <th>Item Name</th>\n",
       "      <th>Item Category</th>\n",
       "      <th>Location</th>\n",
       "      <th>Ticket ID</th>\n",
       "      <th>Task Type</th>\n",
       "    </tr>\n",
       "  </thead>\n",
       "  <tbody>\n",
       "    <tr>\n",
       "      <th>20</th>\n",
       "      <td>BWK-PMO-065</td>\n",
       "      <td>Spraying</td>\n",
       "      <td>Pest Control</td>\n",
       "      <td>Gudang Vendor</td>\n",
       "      <td>NaN</td>\n",
       "      <td>NaN</td>\n",
       "    </tr>\n",
       "    <tr>\n",
       "      <th>21</th>\n",
       "      <td>BWK-PMO-064</td>\n",
       "      <td>Spraying</td>\n",
       "      <td>Pest Control</td>\n",
       "      <td>Basement 1 Zona F</td>\n",
       "      <td>NaN</td>\n",
       "      <td>NaN</td>\n",
       "    </tr>\n",
       "    <tr>\n",
       "      <th>22</th>\n",
       "      <td>BWK-PMO-063</td>\n",
       "      <td>Misting</td>\n",
       "      <td>Pest Control</td>\n",
       "      <td>Gudang Vendor</td>\n",
       "      <td>NaN</td>\n",
       "      <td>NaN</td>\n",
       "    </tr>\n",
       "    <tr>\n",
       "      <th>23</th>\n",
       "      <td>BWK-PMO-062</td>\n",
       "      <td>Misting</td>\n",
       "      <td>Pest Control</td>\n",
       "      <td>Basement 1 Zona F</td>\n",
       "      <td>NaN</td>\n",
       "      <td>NaN</td>\n",
       "    </tr>\n",
       "    <tr>\n",
       "      <th>24</th>\n",
       "      <td>BWK-PMO-061</td>\n",
       "      <td>Cold Fogging</td>\n",
       "      <td>Pest Control</td>\n",
       "      <td>Gudang Vendor</td>\n",
       "      <td>NaN</td>\n",
       "      <td>NaN</td>\n",
       "    </tr>\n",
       "    <tr>\n",
       "      <th>...</th>\n",
       "      <td>...</td>\n",
       "      <td>...</td>\n",
       "      <td>...</td>\n",
       "      <td>...</td>\n",
       "      <td>...</td>\n",
       "      <td>...</td>\n",
       "    </tr>\n",
       "    <tr>\n",
       "      <th>10769</th>\n",
       "      <td>BW-CR-UPS-18-0001</td>\n",
       "      <td>UPS 1KVA</td>\n",
       "      <td>CCTV</td>\n",
       "      <td>Control Room</td>\n",
       "      <td>NaN</td>\n",
       "      <td>NaN</td>\n",
       "    </tr>\n",
       "    <tr>\n",
       "      <th>10770</th>\n",
       "      <td>BW-CR-UPS-17-0001</td>\n",
       "      <td>UPS 1KVA</td>\n",
       "      <td>CCTV</td>\n",
       "      <td>Control Room</td>\n",
       "      <td>NaN</td>\n",
       "      <td>NaN</td>\n",
       "    </tr>\n",
       "    <tr>\n",
       "      <th>10771</th>\n",
       "      <td>BW-CR-UPS-16-0002</td>\n",
       "      <td>UPS 1KVA</td>\n",
       "      <td>CCTV</td>\n",
       "      <td>Control Room</td>\n",
       "      <td>NaN</td>\n",
       "      <td>NaN</td>\n",
       "    </tr>\n",
       "    <tr>\n",
       "      <th>10772</th>\n",
       "      <td>BW-CR-UPS-16-0001</td>\n",
       "      <td>UPS  0,5KVA</td>\n",
       "      <td>CCTV</td>\n",
       "      <td>Control Room</td>\n",
       "      <td>NaN</td>\n",
       "      <td>NaN</td>\n",
       "    </tr>\n",
       "    <tr>\n",
       "      <th>10773</th>\n",
       "      <td>BW-CR-PCB-17-0901</td>\n",
       "      <td>PC Desktop</td>\n",
       "      <td>CCTV</td>\n",
       "      <td>Control Room</td>\n",
       "      <td>NaN</td>\n",
       "      <td>NaN</td>\n",
       "    </tr>\n",
       "  </tbody>\n",
       "</table>\n",
       "<p>848 rows × 6 columns</p>\n",
       "</div>"
      ],
      "text/plain": [
       "                 Item ID     Item Name Item Category           Location  \\\n",
       "20           BWK-PMO-065      Spraying  Pest Control      Gudang Vendor   \n",
       "21           BWK-PMO-064      Spraying  Pest Control  Basement 1 Zona F   \n",
       "22           BWK-PMO-063       Misting  Pest Control      Gudang Vendor   \n",
       "23           BWK-PMO-062       Misting  Pest Control  Basement 1 Zona F   \n",
       "24           BWK-PMO-061  Cold Fogging  Pest Control      Gudang Vendor   \n",
       "...                  ...           ...           ...                ...   \n",
       "10769  BW-CR-UPS-18-0001      UPS 1KVA          CCTV       Control Room   \n",
       "10770  BW-CR-UPS-17-0001      UPS 1KVA          CCTV       Control Room   \n",
       "10771  BW-CR-UPS-16-0002      UPS 1KVA          CCTV       Control Room   \n",
       "10772  BW-CR-UPS-16-0001   UPS  0,5KVA          CCTV       Control Room   \n",
       "10773  BW-CR-PCB-17-0901    PC Desktop          CCTV       Control Room   \n",
       "\n",
       "      Ticket ID Task Type  \n",
       "20          NaN       NaN  \n",
       "21          NaN       NaN  \n",
       "22          NaN       NaN  \n",
       "23          NaN       NaN  \n",
       "24          NaN       NaN  \n",
       "...         ...       ...  \n",
       "10769       NaN       NaN  \n",
       "10770       NaN       NaN  \n",
       "10771       NaN       NaN  \n",
       "10772       NaN       NaN  \n",
       "10773       NaN       NaN  \n",
       "\n",
       "[848 rows x 6 columns]"
      ]
     },
     "metadata": {},
     "output_type": "display_data"
    }
   ],
   "source": [
    "display(unschedule_item)"
   ]
  },
  {
   "cell_type": "code",
   "execution_count": null,
   "id": "ac6ae0aa-cd02-4725-aaef-ed4c2e1c7494",
   "metadata": {},
   "outputs": [],
   "source": []
  }
 ],
 "metadata": {
  "kernelspec": {
   "display_name": "Python 3 (ipykernel)",
   "language": "python",
   "name": "python3"
  },
  "language_info": {
   "codemirror_mode": {
    "name": "ipython",
    "version": 3
   },
   "file_extension": ".py",
   "mimetype": "text/x-python",
   "name": "python",
   "nbconvert_exporter": "python",
   "pygments_lexer": "ipython3",
   "version": "3.8.10"
  }
 },
 "nbformat": 4,
 "nbformat_minor": 5
}
